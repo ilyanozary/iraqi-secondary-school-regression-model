{
 "cells": [
  {
   "cell_type": "code",
   "execution_count": 23,
   "id": "6247dd97",
   "metadata": {},
   "outputs": [],
   "source": [
    "# Importing necessary libraries\n",
    "import pandas as pd\n",
    "import matplotlib.pyplot as plt\n",
    "import numpy as np\n",
    "from sklearn.linear_model import LinearRegression\n",
    "from sklearn.model_selection import train_test_split\n",
    "from sklearn.metrics import mean_squared_error\n",
    "from sklearn.metrics import r2_score\n",
    "from sklearn.metrics import explained_variance_score\n",
    "from sklearn.metrics import d2_pinball_score"
   ]
  },
  {
   "cell_type": "code",
   "execution_count": 2,
   "id": "cc6b9fd6",
   "metadata": {},
   "outputs": [],
   "source": [
    "# Loading data...\n",
    "df = pd.read_excel('Iraqi Student Performance Prediction.xlsx')"
   ]
  },
  {
   "cell_type": "code",
   "execution_count": 3,
   "id": "0c5c662b",
   "metadata": {},
   "outputs": [
    {
     "data": {
      "text/html": [
       "<div>\n",
       "<style scoped>\n",
       "    .dataframe tbody tr th:only-of-type {\n",
       "        vertical-align: middle;\n",
       "    }\n",
       "\n",
       "    .dataframe tbody tr th {\n",
       "        vertical-align: top;\n",
       "    }\n",
       "\n",
       "    .dataframe thead th {\n",
       "        text-align: right;\n",
       "    }\n",
       "</style>\n",
       "<table border=\"1\" class=\"dataframe\">\n",
       "  <thead>\n",
       "    <tr style=\"text-align: right;\">\n",
       "      <th></th>\n",
       "      <th>Student_ID</th>\n",
       "      <th>Sex</th>\n",
       "      <th>Social Status</th>\n",
       "      <th>Age</th>\n",
       "      <th>Governorate</th>\n",
       "      <th>Living</th>\n",
       "      <th>Mother education</th>\n",
       "      <th>Father education</th>\n",
       "      <th>Family member Education</th>\n",
       "      <th>Father Alive</th>\n",
       "      <th>...</th>\n",
       "      <th>economy/bio</th>\n",
       "      <th>Avg1</th>\n",
       "      <th>Islamea.1</th>\n",
       "      <th>arabic.1</th>\n",
       "      <th>english.1</th>\n",
       "      <th>math.1</th>\n",
       "      <th>physics.1</th>\n",
       "      <th>chemistry.1</th>\n",
       "      <th>economy/bio.1</th>\n",
       "      <th>Avg1.1</th>\n",
       "    </tr>\n",
       "  </thead>\n",
       "  <tbody>\n",
       "    <tr>\n",
       "      <th>0</th>\n",
       "      <td>1</td>\n",
       "      <td>Male</td>\n",
       "      <td>single</td>\n",
       "      <td>2</td>\n",
       "      <td>baghdad</td>\n",
       "      <td>city</td>\n",
       "      <td>secondary</td>\n",
       "      <td>secondary</td>\n",
       "      <td>yes</td>\n",
       "      <td>yes</td>\n",
       "      <td>...</td>\n",
       "      <td>70</td>\n",
       "      <td>55</td>\n",
       "      <td>69</td>\n",
       "      <td>50</td>\n",
       "      <td>60</td>\n",
       "      <td>41</td>\n",
       "      <td>59</td>\n",
       "      <td>50</td>\n",
       "      <td>69</td>\n",
       "      <td>57</td>\n",
       "    </tr>\n",
       "    <tr>\n",
       "      <th>1</th>\n",
       "      <td>2</td>\n",
       "      <td>Male</td>\n",
       "      <td>single</td>\n",
       "      <td>3</td>\n",
       "      <td>baghdad</td>\n",
       "      <td>city</td>\n",
       "      <td>medium</td>\n",
       "      <td>higher</td>\n",
       "      <td>yes</td>\n",
       "      <td>yes</td>\n",
       "      <td>...</td>\n",
       "      <td>87</td>\n",
       "      <td>70</td>\n",
       "      <td>65</td>\n",
       "      <td>87</td>\n",
       "      <td>68</td>\n",
       "      <td>85</td>\n",
       "      <td>64</td>\n",
       "      <td>61</td>\n",
       "      <td>69</td>\n",
       "      <td>71</td>\n",
       "    </tr>\n",
       "    <tr>\n",
       "      <th>2</th>\n",
       "      <td>3</td>\n",
       "      <td>Male</td>\n",
       "      <td>single</td>\n",
       "      <td>2</td>\n",
       "      <td>baghdad</td>\n",
       "      <td>city</td>\n",
       "      <td>Illiterate</td>\n",
       "      <td>secondary</td>\n",
       "      <td>no</td>\n",
       "      <td>yes</td>\n",
       "      <td>...</td>\n",
       "      <td>58</td>\n",
       "      <td>54</td>\n",
       "      <td>44</td>\n",
       "      <td>50</td>\n",
       "      <td>46</td>\n",
       "      <td>45</td>\n",
       "      <td>55</td>\n",
       "      <td>30</td>\n",
       "      <td>43</td>\n",
       "      <td>45</td>\n",
       "    </tr>\n",
       "    <tr>\n",
       "      <th>3</th>\n",
       "      <td>4</td>\n",
       "      <td>Male</td>\n",
       "      <td>coupled</td>\n",
       "      <td>3</td>\n",
       "      <td>baghdad</td>\n",
       "      <td>city</td>\n",
       "      <td>ba</td>\n",
       "      <td>ba</td>\n",
       "      <td>yes</td>\n",
       "      <td>yes</td>\n",
       "      <td>...</td>\n",
       "      <td>92</td>\n",
       "      <td>73</td>\n",
       "      <td>60</td>\n",
       "      <td>55</td>\n",
       "      <td>60</td>\n",
       "      <td>55</td>\n",
       "      <td>70</td>\n",
       "      <td>73</td>\n",
       "      <td>80</td>\n",
       "      <td>65</td>\n",
       "    </tr>\n",
       "    <tr>\n",
       "      <th>4</th>\n",
       "      <td>5</td>\n",
       "      <td>Male</td>\n",
       "      <td>single</td>\n",
       "      <td>2</td>\n",
       "      <td>baghdad</td>\n",
       "      <td>city</td>\n",
       "      <td>secondary</td>\n",
       "      <td>secondary</td>\n",
       "      <td>yes</td>\n",
       "      <td>yes</td>\n",
       "      <td>...</td>\n",
       "      <td>60</td>\n",
       "      <td>34</td>\n",
       "      <td>40</td>\n",
       "      <td>32</td>\n",
       "      <td>28</td>\n",
       "      <td>25</td>\n",
       "      <td>35</td>\n",
       "      <td>25</td>\n",
       "      <td>40</td>\n",
       "      <td>32</td>\n",
       "    </tr>\n",
       "  </tbody>\n",
       "</table>\n",
       "<p>5 rows × 56 columns</p>\n",
       "</div>"
      ],
      "text/plain": [
       "   Student_ID   Sex Social Status  Age Governorate Living Mother education  \\\n",
       "0           1  Male        single    2     baghdad   city        secondary   \n",
       "1           2  Male        single    3     baghdad   city           medium   \n",
       "2           3  Male        single    2     baghdad   city       Illiterate   \n",
       "3           4  Male       coupled    3     baghdad   city               ba   \n",
       "4           5  Male        single    2     baghdad   city        secondary   \n",
       "\n",
       "  Father education Family member Education Father Alive  ... economy/bio  \\\n",
       "0        secondary                     yes          yes  ...          70   \n",
       "1           higher                     yes          yes  ...          87   \n",
       "2        secondary                      no          yes  ...          58   \n",
       "3               ba                     yes          yes  ...          92   \n",
       "4        secondary                     yes          yes  ...          60   \n",
       "\n",
       "   Avg1 Islamea.1 arabic.1 english.1 math.1 physics.1 chemistry.1  \\\n",
       "0    55        69       50        60     41        59          50   \n",
       "1    70        65       87        68     85        64          61   \n",
       "2    54        44       50        46     45        55          30   \n",
       "3    73        60       55        60     55        70          73   \n",
       "4    34        40       32        28     25        35          25   \n",
       "\n",
       "  economy/bio.1 Avg1.1  \n",
       "0            69     57  \n",
       "1            69     71  \n",
       "2            43     45  \n",
       "3            80     65  \n",
       "4            40     32  \n",
       "\n",
       "[5 rows x 56 columns]"
      ]
     },
     "execution_count": 3,
     "metadata": {},
     "output_type": "execute_result"
    }
   ],
   "source": [
    "# Showing the first few rows of data\n",
    "df.head()"
   ]
  },
  {
   "cell_type": "code",
   "execution_count": 4,
   "id": "6129312b",
   "metadata": {},
   "outputs": [
    {
     "data": {
      "text/plain": [
       "Index(['Student_ID', 'Sex', 'Social Status', 'Age', 'Governorate', 'Living',\n",
       "       'Mother education', 'Father education', 'Family member Education',\n",
       "       'Father Alive', 'Mother Alive', 'Family Size', 'Parent Apart',\n",
       "       'The Guardian', 'Family Relationship', 'Father Job', 'Mother Job',\n",
       "       'Education Fee', 'Secondary Job', 'Home Ownership', 'Study Room',\n",
       "       'Family Economic Level', 'You  chronic disease',\n",
       "       'Family Chronic Disease', 'Specialization', 'Study willing',\n",
       "       'Reason of study', 'Attendance', 'Failure Year',\n",
       "       'Higher Education Willing', 'References Usage', 'Internet Usage',\n",
       "       'TV Usage', 'Sleep Hour', 'Study Hour', 'Arrival Time', 'Transport',\n",
       "       'Holiday Effect', 'Worry Effect', 'Parent Meeting', 'Islamea', 'arabic',\n",
       "       'english', 'math', 'physics', 'chemistry', 'economy/bio', 'Avg1',\n",
       "       'Islamea.1', 'arabic.1', 'english.1', 'math.1', 'physics.1',\n",
       "       'chemistry.1', 'economy/bio.1', 'Avg1.1'],\n",
       "      dtype='object')"
      ]
     },
     "execution_count": 4,
     "metadata": {},
     "output_type": "execute_result"
    }
   ],
   "source": [
    "# Inspecting the columns in the data\n",
    "df.columns"
   ]
  },
  {
   "cell_type": "code",
   "execution_count": 5,
   "id": "f6c1c514",
   "metadata": {},
   "outputs": [
    {
     "data": {
      "text/plain": [
       "Student_ID                   int64\n",
       "Sex                         object\n",
       "Social Status               object\n",
       "Age                          int64\n",
       "Governorate                 object\n",
       "Living                      object\n",
       "Mother education            object\n",
       "Father education            object\n",
       "Family member Education     object\n",
       "Father Alive                object\n",
       "Mother Alive                object\n",
       "Family Size                  int64\n",
       "Parent Apart                object\n",
       "The Guardian                object\n",
       "Family Relationship         object\n",
       "Father Job                  object\n",
       "Mother Job                  object\n",
       "Education Fee               object\n",
       "Secondary Job               object\n",
       "Home Ownership              object\n",
       "Study Room                  object\n",
       "Family Economic Level       object\n",
       "You  chronic disease        object\n",
       "Family Chronic Disease      object\n",
       "Specialization              object\n",
       "Study willing               object\n",
       "Reason of study             object\n",
       "Attendance                  object\n",
       "Failure Year                object\n",
       "Higher Education Willing    object\n",
       "References Usage            object\n",
       "Internet Usage               int64\n",
       "TV Usage                     int64\n",
       "Sleep Hour                   int64\n",
       "Study Hour                   int64\n",
       "Arrival Time                 int64\n",
       "Transport                   object\n",
       "Holiday Effect              object\n",
       "Worry Effect                object\n",
       "Parent Meeting              object\n",
       "Islamea                      int64\n",
       "arabic                       int64\n",
       "english                      int64\n",
       "math                         int64\n",
       "physics                      int64\n",
       "chemistry                    int64\n",
       "economy/bio                  int64\n",
       "Avg1                         int64\n",
       "Islamea.1                    int64\n",
       "arabic.1                     int64\n",
       "english.1                    int64\n",
       "math.1                       int64\n",
       "physics.1                    int64\n",
       "chemistry.1                  int64\n",
       "economy/bio.1                int64\n",
       "Avg1.1                       int64\n",
       "dtype: object"
      ]
     },
     "execution_count": 5,
     "metadata": {},
     "output_type": "execute_result"
    }
   ],
   "source": [
    "# Inspecting the data types of the columns\n",
    "df.dtypes"
   ]
  },
  {
   "cell_type": "code",
   "execution_count": 6,
   "id": "35e55e9c",
   "metadata": {},
   "outputs": [
    {
     "data": {
      "image/png": "[encoded data removed]",
      "text/plain": [
       "<Figure size 640x480 with 1 Axes>"
      ]
     },
     "metadata": {},
     "output_type": "display_data"
    }
   ],
   "source": [
    "# Creating a bar chart to visualize the relationship between 'Father Alive' and 'Avg1'\n",
    "plt.bar(df['Father Alive'], df['Avg1'])\n",
    "plt.show() \n"
   ]
  },
  {
   "cell_type": "code",
   "execution_count": 7,
   "id": "feeed290",
   "metadata": {},
   "outputs": [
    {
     "data": {
      "image/png": "[encoded data removed]",
      "text/plain": [
       "<Figure size 640x480 with 1 Axes>"
      ]
     },
     "metadata": {},
     "output_type": "display_data"
    }
   ],
   "source": [
    "# Creating a bar chart to visualize the relationship between 'Social Status' and 'Avg1'\n",
    "plt.bar(df['Social Status'], df['Avg1'] )\n",
    "plt.show()"
   ]
  },
  {
   "cell_type": "code",
   "execution_count": 8,
   "id": "5027b161",
   "metadata": {},
   "outputs": [],
   "source": [
    "# Checking for any missing values in the dataset\n",
    "missing_values = df.isnull().sum()"
   ]
  },
  {
   "cell_type": "code",
   "execution_count": 9,
   "id": "57d14f1c",
   "metadata": {},
   "outputs": [],
   "source": [
    "# Dropping rows with missing values\n",
    "data = df.dropna()"
   ]
  },
  {
   "cell_type": "code",
   "execution_count": 10,
   "id": "c438528f",
   "metadata": {},
   "outputs": [],
   "source": [
    "# Defining the categorical features in the dataset that need to be one-hot encoded\n",
    "# to be used in predictive modeling\n",
    "categorical_features = ['Sex', 'Social Status', 'Governorate', 'Living',\n",
    "                        'Mother education', 'Father education', 'Family member Education',\n",
    "                        'Father Alive', 'Mother Alive', 'Parent Apart',\n",
    "                        'The Guardian', 'Family Relationship', 'Father Job', 'Mother Job',\n",
    "                        'Education Fee', 'Secondary Job', 'Home Ownership', 'Study Room',\n",
    "                        'Family Economic Level', 'You  chronic disease',\n",
    "                        'Family Chronic Disease', 'Specialization', 'Study willing',\n",
    "                        'Reason of study', 'Attendance', 'Failure Year',\n",
    "                        'Higher Education Willing', 'References Usage', 'Internet Usage',\n",
    "                        'TV Usage', 'Sleep Hour', 'Study Hour', 'Arrival Time', 'Transport',\n",
    "                        'Holiday Effect', 'Worry Effect', 'Parent Meeting']"
   ]
  },
  {
   "cell_type": "code",
   "execution_count": 11,
   "id": "cf669776",
   "metadata": {},
   "outputs": [],
   "source": [
    "# One-hot encoding the categorical features in the dataset\n",
    "df_encoded = pd.get_dummies(df, columns=categorical_features, drop_first=True)\n",
    "# Separating the data into features (X) and target (y)\n",
    "X = df_encoded.drop(columns=['Avg1.1'])  # Removing the target column\n",
    "y = df_encoded['Avg1.1']\n",
    "# Splitting the data into training and testing sets\n",
    "X_train, X_test, y_train, y_test = train_test_split(X, y, test_size=0.2, random_state=42)"
   ]
  },
  {
   "cell_type": "code",
   "execution_count": 12,
   "id": "d7aa0664",
   "metadata": {},
   "outputs": [],
   "source": [
    "# Creating an instance of the Linear Regression model\n",
    "lr_model = LinearRegression()"
   ]
  },
  {
   "cell_type": "code",
   "execution_count": 13,
   "id": "f4258b18",
   "metadata": {},
   "outputs": [
    {
     "data": {
      "text/html": [
       "<style>#sk-container-id-1 {color: black;background-color: white;}#sk-container-id-1 pre{padding: 0;}#sk-container-id-1 div.sk-toggleable {background-color: white;}#sk-container-id-1 label.sk-toggleable__label {cursor: pointer;display: block;width: 100%;margin-bottom: 0;padding: 0.3em;box-sizing: border-box;text-align: center;}#sk-container-id-1 label.sk-toggleable__label-arrow:before {content: \"▸\";float: left;margin-right: 0.25em;color: #696969;}#sk-container-id-1 label.sk-toggleable__label-arrow:hover:before {color: black;}#sk-container-id-1 div.sk-estimator:hover label.sk-toggleable__label-arrow:before {color: black;}#sk-container-id-1 div.sk-toggleable__content {max-height: 0;max-width: 0;overflow: hidden;text-align: left;background-color: #f0f8ff;}#sk-container-id-1 div.sk-toggleable__content pre {margin: 0.2em;color: black;border-radius: 0.25em;background-color: #f0f8ff;}#sk-container-id-1 input.sk-toggleable__control:checked~div.sk-toggleable__content {max-height: 200px;max-width: 100%;overflow: auto;}#sk-container-id-1 input.sk-toggleable__control:checked~label.sk-toggleable__label-arrow:before {content: \"▾\";}#sk-container-id-1 div.sk-estimator input.sk-toggleable__control:checked~label.sk-toggleable__label {background-color: #d4ebff;}#sk-container-id-1 div.sk-label input.sk-toggleable__control:checked~label.sk-toggleable__label {background-color: #d4ebff;}#sk-container-id-1 input.sk-hidden--visually {border: 0;clip: rect(1px 1px 1px 1px);clip: rect(1px, 1px, 1px, 1px);height: 1px;margin: -1px;overflow: hidden;padding: 0;position: absolute;width: 1px;}#sk-container-id-1 div.sk-estimator {font-family: monospace;background-color: #f0f8ff;border: 1px dotted black;border-radius: 0.25em;box-sizing: border-box;margin-bottom: 0.5em;}#sk-container-id-1 div.sk-estimator:hover {background-color: #d4ebff;}#sk-container-id-1 div.sk-parallel-item::after {content: \"\";width: 100%;border-bottom: 1px solid gray;flex-grow: 1;}#sk-container-id-1 div.sk-label:hover label.sk-toggleable__label {background-color: #d4ebff;}#sk-container-id-1 div.sk-serial::before {content: \"\";position: absolute;border-left: 1px solid gray;box-sizing: border-box;top: 0;bottom: 0;left: 50%;z-index: 0;}#sk-container-id-1 div.sk-serial {display: flex;flex-direction: column;align-items: center;background-color: white;padding-right: 0.2em;padding-left: 0.2em;position: relative;}#sk-container-id-1 div.sk-item {position: relative;z-index: 1;}#sk-container-id-1 div.sk-parallel {display: flex;align-items: stretch;justify-content: center;background-color: white;position: relative;}#sk-container-id-1 div.sk-item::before, #sk-container-id-1 div.sk-parallel-item::before {content: \"\";position: absolute;border-left: 1px solid gray;box-sizing: border-box;top: 0;bottom: 0;left: 50%;z-index: -1;}#sk-container-id-1 div.sk-parallel-item {display: flex;flex-direction: column;z-index: 1;position: relative;background-color: white;}#sk-container-id-1 div.sk-parallel-item:first-child::after {align-self: flex-end;width: 50%;}#sk-container-id-1 div.sk-parallel-item:last-child::after {align-self: flex-start;width: 50%;}#sk-container-id-1 div.sk-parallel-item:only-child::after {width: 0;}#sk-container-id-1 div.sk-dashed-wrapped {border: 1px dashed gray;margin: 0 0.4em 0.5em 0.4em;box-sizing: border-box;padding-bottom: 0.4em;background-color: white;}#sk-container-id-1 div.sk-label label {font-family: monospace;font-weight: bold;display: inline-block;line-height: 1.2em;}#sk-container-id-1 div.sk-label-container {text-align: center;}#sk-container-id-1 div.sk-container {/* jupyter's `normalize.less` sets `[hidden] { display: none; }` but bootstrap.min.css set `[hidden] { display: none !important; }` so we also need the `!important` here to be able to override the default hidden behavior on the sphinx rendered scikit-learn.org. See: https://github.com/scikit-learn/scikit-learn/issues/21755 */display: inline-block !important;position: relative;}#sk-container-id-1 div.sk-text-repr-fallback {display: none;}</style><div id=\"sk-container-id-1\" class=\"sk-top-container\"><div class=\"sk-text-repr-fallback\"><pre>LinearRegression()</pre><b>In a Jupyter environment, please rerun this cell to show the HTML representation or trust the notebook. <br />On GitHub, the HTML representation is unable to render, please try loading this page with nbviewer.org.</b></div><div class=\"sk-container\" hidden><div class=\"sk-item\"><div class=\"sk-estimator sk-toggleable\"><input class=\"sk-toggleable__control sk-hidden--visually\" id=\"sk-estimator-id-1\" type=\"checkbox\" checked><label for=\"sk-estimator-id-1\" class=\"sk-toggleable__label sk-toggleable__label-arrow\">LinearRegression</label><div class=\"sk-toggleable__content\"><pre>LinearRegression()</pre></div></div></div></div></div>"
      ],
      "text/plain": [
       "LinearRegression()"
      ]
     },
     "execution_count": 13,
     "metadata": {},
     "output_type": "execute_result"
    }
   ],
   "source": [
    "lr_model.fit(X_train, y_train)"
   ]
  },
  {
   "cell_type": "code",
   "execution_count": 14,
   "id": "4aaff31b",
   "metadata": {},
   "outputs": [],
   "source": [
    "# Using the model to make predictions on the test data\n",
    "y_pred_lr = lr_model.predict(X_test)"
   ]
  },
  {
   "cell_type": "code",
   "execution_count": 25,
   "id": "240e6113",
   "metadata": {},
   "outputs": [
    {
     "name": "stdout",
     "output_type": "stream",
     "text": [
      ">>>r2score : 0.9962494419299771\n",
      ">>>Evs: 0.9963856989758303\n",
      ">>>DPS 0.9366169893845943\n"
     ]
    }
   ],
   "source": [
    "R2 = r2_score(y_test, y_pred_lr)\n",
    "print ('>>>r2score :', R2)\n",
    "Evs = explained_variance_score(y_test, y_pred_lr)\n",
    "print('>>>Evs:',Evs)\n",
    "DPS = d2_pinball_score(y_test, y_pred_lr)\n",
    "print('>>>DPS',DPS)"
   ]
  }
 ],
 "metadata": {
  "kernelspec": {
   "display_name": "Python 3 (ipykernel)",
   "language": "python",
   "name": "python3"
  },
  "language_info": {
   "codemirror_mode": {
    "name": "ipython",
    "version": 3
   },
   "file_extension": ".py",
   "mimetype": "text/x-python",
   "name": "python",
   "nbconvert_exporter": "python",
   "pygments_lexer": "ipython3",
   "version": "3.10.9"
  }
 },
 "nbformat": 4,
 "nbformat_minor": 5
}
